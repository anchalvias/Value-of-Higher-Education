{
 "cells": [
  {
   "cell_type": "code",
   "execution_count": 1,
   "metadata": {},
   "outputs": [],
   "source": [
    "import matplotlib.pyplot as plt\n",
    "import numpy as np\n",
    "import pandas as pd\n"
   ]
  },
  {
   "cell_type": "code",
   "execution_count": 3,
   "metadata": {},
   "outputs": [
    {
     "data": {
      "text/plain": [
       "<bound method NDFrame.head of                                           Unnamed: 0  \\\n",
       "0  Was prepared to assume the responsibilities of...   \n",
       "1                      Would recommend FIU to others   \n",
       "2                                                NaN   \n",
       "3                                                NaN   \n",
       "4                                                NaN   \n",
       "\n",
       "  2019-2020 Strongly Agree/Agree 2018-2019 Strongly Agree/Agree  \\\n",
       "0                         83.24%                         83.72%   \n",
       "1                         86.85%                         85.20%   \n",
       "2                            NaN                            NaN   \n",
       "3                            NaN                            NaN   \n",
       "4                            NaN                            NaN   \n",
       "\n",
       "  2017-2018 Strongly Agree/Agree 2016-2017 Strongly Agree/Agree  \\\n",
       "0                         84.19%                         83.45%   \n",
       "1                         86.14%                         84.93%   \n",
       "2                            NaN                            NaN   \n",
       "3                            NaN                            NaN   \n",
       "4                            NaN                            NaN   \n",
       "\n",
       "  2015-2016 Strongly Agree/Agree 2014-2015 Strongly Agree/Agree  \\\n",
       "0                         84.63%                         84.14%   \n",
       "1                         85.83%                         85.40%   \n",
       "2                            NaN                            NaN   \n",
       "3                            NaN                            NaN   \n",
       "4                            NaN                            NaN   \n",
       "\n",
       "  2013-2014 Strongly Agree/Agree 2012-2013 Strongly Agree/Agree  \\\n",
       "0                         83.91%                         85.36%   \n",
       "1                         85.49%                         86.05%   \n",
       "2                            NaN                            NaN   \n",
       "3                            NaN                            NaN   \n",
       "4                            NaN                            NaN   \n",
       "\n",
       "  2011-2012 Strongly Agree/Agree  \n",
       "0                         84.58%  \n",
       "1                         84.13%  \n",
       "2                            NaN  \n",
       "3                            NaN  \n",
       "4                            NaN  >"
      ]
     },
     "execution_count": 3,
     "metadata": {},
     "output_type": "execute_result"
    }
   ],
   "source": [
    "#Let's read in the dataset\n",
    "data = pd.read_csv(\"data/FIUGraduatingSeniorSurvey.csv\")\n",
    "data.head"
   ]
  },
  {
   "cell_type": "code",
   "execution_count": 7,
   "metadata": {},
   "outputs": [
    {
     "data": {
      "text/html": [
       "<div>\n",
       "<style scoped>\n",
       "    .dataframe tbody tr th:only-of-type {\n",
       "        vertical-align: middle;\n",
       "    }\n",
       "\n",
       "    .dataframe tbody tr th {\n",
       "        vertical-align: top;\n",
       "    }\n",
       "\n",
       "    .dataframe thead th {\n",
       "        text-align: right;\n",
       "    }\n",
       "</style>\n",
       "<table border=\"1\" class=\"dataframe\">\n",
       "  <thead>\n",
       "    <tr style=\"text-align: right;\">\n",
       "      <th></th>\n",
       "      <th>Unnamed: 0</th>\n",
       "      <th>2019-2020 Strongly Agree/Agree</th>\n",
       "      <th>2018-2019 Strongly Agree/Agree</th>\n",
       "      <th>2017-2018 Strongly Agree/Agree</th>\n",
       "      <th>2016-2017 Strongly Agree/Agree</th>\n",
       "      <th>2015-2016 Strongly Agree/Agree</th>\n",
       "      <th>2014-2015 Strongly Agree/Agree</th>\n",
       "      <th>2013-2014 Strongly Agree/Agree</th>\n",
       "      <th>2012-2013 Strongly Agree/Agree</th>\n",
       "      <th>2011-2012 Strongly Agree/Agree</th>\n",
       "    </tr>\n",
       "  </thead>\n",
       "  <tbody>\n",
       "    <tr>\n",
       "      <th>0</th>\n",
       "      <td>Was prepared to assume the responsibilities of...</td>\n",
       "      <td>83.24%</td>\n",
       "      <td>83.72%</td>\n",
       "      <td>84.19%</td>\n",
       "      <td>83.45%</td>\n",
       "      <td>84.63%</td>\n",
       "      <td>84.14%</td>\n",
       "      <td>83.91%</td>\n",
       "      <td>85.36%</td>\n",
       "      <td>84.58%</td>\n",
       "    </tr>\n",
       "    <tr>\n",
       "      <th>1</th>\n",
       "      <td>Would recommend FIU to others</td>\n",
       "      <td>86.85%</td>\n",
       "      <td>85.20%</td>\n",
       "      <td>86.14%</td>\n",
       "      <td>84.93%</td>\n",
       "      <td>85.83%</td>\n",
       "      <td>85.40%</td>\n",
       "      <td>85.49%</td>\n",
       "      <td>86.05%</td>\n",
       "      <td>84.13%</td>\n",
       "    </tr>\n",
       "  </tbody>\n",
       "</table>\n",
       "</div>"
      ],
      "text/plain": [
       "                                          Unnamed: 0  \\\n",
       "0  Was prepared to assume the responsibilities of...   \n",
       "1                      Would recommend FIU to others   \n",
       "\n",
       "  2019-2020 Strongly Agree/Agree 2018-2019 Strongly Agree/Agree  \\\n",
       "0                         83.24%                         83.72%   \n",
       "1                         86.85%                         85.20%   \n",
       "\n",
       "  2017-2018 Strongly Agree/Agree 2016-2017 Strongly Agree/Agree  \\\n",
       "0                         84.19%                         83.45%   \n",
       "1                         86.14%                         84.93%   \n",
       "\n",
       "  2015-2016 Strongly Agree/Agree 2014-2015 Strongly Agree/Agree  \\\n",
       "0                         84.63%                         84.14%   \n",
       "1                         85.83%                         85.40%   \n",
       "\n",
       "  2013-2014 Strongly Agree/Agree 2012-2013 Strongly Agree/Agree  \\\n",
       "0                         83.91%                         85.36%   \n",
       "1                         85.49%                         86.05%   \n",
       "\n",
       "  2011-2012 Strongly Agree/Agree  \n",
       "0                         84.58%  \n",
       "1                         84.13%  "
      ]
     },
     "execution_count": 7,
     "metadata": {},
     "output_type": "execute_result"
    }
   ],
   "source": [
    "data[:2]"
   ]
  },
  {
   "cell_type": "code",
   "execution_count": null,
   "metadata": {},
   "outputs": [],
   "source": []
  }
 ],
 "metadata": {
  "kernelspec": {
   "display_name": "Python 3",
   "language": "python",
   "name": "python3"
  },
  "language_info": {
   "codemirror_mode": {
    "name": "ipython",
    "version": 3
   },
   "file_extension": ".py",
   "mimetype": "text/x-python",
   "name": "python",
   "nbconvert_exporter": "python",
   "pygments_lexer": "ipython3",
   "version": "3.8.3"
  }
 },
 "nbformat": 4,
 "nbformat_minor": 4
}
