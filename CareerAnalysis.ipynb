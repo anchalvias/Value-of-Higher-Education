{
 "cells": [
  {
   "cell_type": "code",
   "execution_count": 91,
   "metadata": {},
   "outputs": [],
   "source": [
    "import pandas as pd\n",
    "data = pd.read_excel(\"SHEDproject.xlsx\", skiprows=1)\n",
    "\n"
   ]
  },
  {
   "cell_type": "code",
   "execution_count": null,
   "metadata": {},
   "outputs": [],
   "source": [
    "# Analysis on Factctors that play role in career satisfaction/ dissatisfaction: Age, level of degree, field of education,\n",
    "# return on investment.\n",
    "# Role of age factor in career satisfaction"
   ]
  },
  {
   "cell_type": "code",
   "execution_count": 92,
   "metadata": {},
   "outputs": [
    {
     "data": {
      "text/html": [
       "<div>\n",
       "<style>\n",
       "    .dataframe thead tr:only-child th {\n",
       "        text-align: right;\n",
       "    }\n",
       "\n",
       "    .dataframe thead th {\n",
       "        text-align: left;\n",
       "    }\n",
       "\n",
       "    .dataframe tbody tr th {\n",
       "        vertical-align: top;\n",
       "    }\n",
       "</style>\n",
       "<table border=\"1\" class=\"dataframe\">\n",
       "  <thead>\n",
       "    <tr style=\"text-align: right;\">\n",
       "      <th>Satisfied with Skills and Education</th>\n",
       "      <th>Don't know</th>\n",
       "      <th>No</th>\n",
       "      <th>Yes</th>\n",
       "    </tr>\n",
       "    <tr>\n",
       "      <th>Age Category</th>\n",
       "      <th></th>\n",
       "      <th></th>\n",
       "      <th></th>\n",
       "    </tr>\n",
       "  </thead>\n",
       "  <tbody>\n",
       "    <tr>\n",
       "      <th>18-29</th>\n",
       "      <td>258</td>\n",
       "      <td>498</td>\n",
       "      <td>690</td>\n",
       "    </tr>\n",
       "    <tr>\n",
       "      <th>30-44</th>\n",
       "      <td>26</td>\n",
       "      <td>32</td>\n",
       "      <td>106</td>\n",
       "    </tr>\n",
       "  </tbody>\n",
       "</table>\n",
       "</div>"
      ],
      "text/plain": [
       "Satisfied with Skills and Education  Don't know   No  Yes\n",
       "Age Category                                             \n",
       "18-29                                       258  498  690\n",
       "30-44                                        26   32  106"
      ]
     },
     "execution_count": 92,
     "metadata": {},
     "output_type": "execute_result"
    }
   ],
   "source": [
    "data1= data[['CaseID','YW3','ED1','ppagect4','ED0']].copy()\n",
    "data1.columns = ['ID','Satisfied with Skills and Education','Field of Education','Age Category','ED0']\n",
    "data1 = data1[data1['Satisfied with Skills and Education'] != 'Not In Universe (not asked)']\n",
    "data1 = data1[data1['Satisfied with Skills and Education'] != 'Refused']\n",
    "\n",
    "age_job_satisfaction = data1.pivot_table('ID', index=['Age Category'],\n",
    "                    columns='Satisfied with Skills and Education', aggfunc='count')\n",
    "age_job_satisfaction"
   ]
  },
  {
   "cell_type": "code",
   "execution_count": null,
   "metadata": {
    "collapsed": true
   },
   "outputs": [],
   "source": [
    "import matplotlib.pyplot as plt\n",
    "import numpy as np\n",
    "%matplotlib inline"
   ]
  },
  {
   "cell_type": "code",
   "execution_count": 37,
   "metadata": {},
   "outputs": [
    {
     "data": {
      "image/png": "[encoded data removed]",
      "text/plain": [
       "<matplotlib.figure.Figure at 0x26093caa860>"
      ]
     },
     "metadata": {},
     "output_type": "display_data"
    }
   ],
   "source": [
    "\n",
    "n_groups =2\n",
    "\n",
    "Yes=(690, 106)\n",
    "No = (498,32)\n",
    "\n",
    "# create plot\n",
    "fig, ax = plt.subplots(figsize=(6, 5))\n",
    "index = np.arange(n_groups)\n",
    "bar_width = 0.20\n",
    "opacity = 0.6\n",
    "\n",
    "bar1 = plt.bar(index, Yes, bar_width,\n",
    "alpha=opacity,\n",
    "color='c',\n",
    "label='Yes')\n",
    "\n",
    "bar2 = plt.bar(index + bar_width, No, bar_width,\n",
    "alpha=opacity,\n",
    "color='r',\n",
    "label='No')\n",
    "\n",
    "plt.xlabel('Age Group')\n",
    "plt.ylabel('Satisfied with Skills and Education')\n",
    "plt.title('people from different age groups satisfied with education and skills for next 5 years')\n",
    "plt.xticks(index + bar_width, ('18-29','30-44'))\n",
    "plt.legend()\n",
    "\n",
    "plt.tight_layout()\n",
    "plt.show()"
   ]
  },
  {
   "cell_type": "code",
   "execution_count": null,
   "metadata": {
    "collapsed": true
   },
   "outputs": [],
   "source": [
    "# Role of different education fields in career satisfaction for next 5 years."
   ]
  },
  {
   "cell_type": "code",
   "execution_count": 99,
   "metadata": {},
   "outputs": [
    {
     "data": {
      "text/html": [
       "<div>\n",
       "<style>\n",
       "    .dataframe thead tr:only-child th {\n",
       "        text-align: right;\n",
       "    }\n",
       "\n",
       "    .dataframe thead th {\n",
       "        text-align: left;\n",
       "    }\n",
       "\n",
       "    .dataframe tbody tr th {\n",
       "        vertical-align: top;\n",
       "    }\n",
       "</style>\n",
       "<table border=\"1\" class=\"dataframe\">\n",
       "  <thead>\n",
       "    <tr style=\"text-align: right;\">\n",
       "      <th>Satisfied with Skills and Education</th>\n",
       "      <th>No</th>\n",
       "      <th>Yes</th>\n",
       "    </tr>\n",
       "    <tr>\n",
       "      <th>Field of Education</th>\n",
       "      <th></th>\n",
       "      <th></th>\n",
       "    </tr>\n",
       "  </thead>\n",
       "  <tbody>\n",
       "    <tr>\n",
       "      <th>Business/management</th>\n",
       "      <td>54</td>\n",
       "      <td>110</td>\n",
       "    </tr>\n",
       "    <tr>\n",
       "      <th>Computer/information sciences</th>\n",
       "      <td>29</td>\n",
       "      <td>51</td>\n",
       "    </tr>\n",
       "    <tr>\n",
       "      <th>Education</th>\n",
       "      <td>29</td>\n",
       "      <td>86</td>\n",
       "    </tr>\n",
       "    <tr>\n",
       "      <th>Engineering</th>\n",
       "      <td>16</td>\n",
       "      <td>55</td>\n",
       "    </tr>\n",
       "    <tr>\n",
       "      <th>Health</th>\n",
       "      <td>80</td>\n",
       "      <td>90</td>\n",
       "    </tr>\n",
       "    <tr>\n",
       "      <th>Humanities</th>\n",
       "      <td>32</td>\n",
       "      <td>56</td>\n",
       "    </tr>\n",
       "    <tr>\n",
       "      <th>Law</th>\n",
       "      <td>15</td>\n",
       "      <td>24</td>\n",
       "    </tr>\n",
       "    <tr>\n",
       "      <th>Life sciences</th>\n",
       "      <td>25</td>\n",
       "      <td>21</td>\n",
       "    </tr>\n",
       "    <tr>\n",
       "      <th>Other (Please specify):</th>\n",
       "      <td>52</td>\n",
       "      <td>83</td>\n",
       "    </tr>\n",
       "    <tr>\n",
       "      <th>Physical sciences/math</th>\n",
       "      <td>18</td>\n",
       "      <td>31</td>\n",
       "    </tr>\n",
       "    <tr>\n",
       "      <th>Social/behavioral sciences</th>\n",
       "      <td>59</td>\n",
       "      <td>81</td>\n",
       "    </tr>\n",
       "    <tr>\n",
       "      <th>Undeclared</th>\n",
       "      <td>21</td>\n",
       "      <td>19</td>\n",
       "    </tr>\n",
       "    <tr>\n",
       "      <th>Vocational/technical training</th>\n",
       "      <td>13</td>\n",
       "      <td>28</td>\n",
       "    </tr>\n",
       "  </tbody>\n",
       "</table>\n",
       "</div>"
      ],
      "text/plain": [
       "Satisfied with Skills and Education  No  Yes\n",
       "Field of Education                          \n",
       "Business/management                  54  110\n",
       "Computer/information sciences        29   51\n",
       "Education                            29   86\n",
       "Engineering                          16   55\n",
       "Health                               80   90\n",
       "Humanities                           32   56\n",
       "Law                                  15   24\n",
       "Life sciences                        25   21\n",
       "Other (Please specify):              52   83\n",
       "Physical sciences/math               18   31\n",
       "Social/behavioral sciences           59   81\n",
       "Undeclared                           21   19\n",
       "Vocational/technical training        13   28"
      ]
     },
     "execution_count": 99,
     "metadata": {},
     "output_type": "execute_result"
    }
   ],
   "source": [
    "#data1[['ID','Satisfied with Skills and Education','Field of Education','Age Category','ED0']]= data[['CaseID','YW3','ED1','ppagect4','ED0']].copy()\n",
    "#data1=data1.dropna(axis=0) \n",
    "data1 = data1[data1['Satisfied with Skills and Education'] != 'Not In Universe (not asked)']\n",
    "data1 = data1[data1['Satisfied with Skills and Education'] != 'Refused']\n",
    "data1 = data1[data1['Satisfied with Skills and Education'] != \"Don't know\"]\n",
    "data1 = data1[data1['Field of Education'] != 'Not In Universe (not asked)']\n",
    "data1 = data1[data1['Field of Education'] != 'Refused']\n",
    "field_satisfaction = data1.pivot_table('ID', index=['Field of Education'],\n",
    "                    columns='Satisfied with Skills and Education', aggfunc='count')\n",
    "field_satisfaction\n"
   ]
  },
  {
   "cell_type": "code",
   "execution_count": 90,
   "metadata": {},
   "outputs": [
    {
     "data": {
      "image/png": "[encoded data removed]",
      "text/plain": [
       "<matplotlib.figure.Figure at 0x26092448cc0>"
      ]
     },
     "metadata": {},
     "output_type": "display_data"
    }
   ],
   "source": [
    "\n",
    "n_groups = 11\n",
    "Yes=(110,51,86,55,90,56,24,21,31,81,28)\n",
    "No = (54,29,29,16,80,32,15,25,18,59,13)\n",
    "\n",
    "# create plot\n",
    "fig, ax = plt.subplots(figsize=(15, 8))\n",
    "index = np.arange(n_groups)\n",
    "bar_width = 0.35\n",
    "opacity = 0.6\n",
    "\n",
    "rects1 = plt.bar(index, Yes, bar_width,\n",
    "alpha=opacity,\n",
    "color='c',\n",
    "label='Yes')\n",
    "\n",
    "rects2 = plt.bar(index + bar_width, No, bar_width,\n",
    "alpha=opacity,\n",
    "color='r',\n",
    "label='No')\n",
    "\n",
    "plt.xlabel('Field of Education')\n",
    "plt.ylabel('Satisfied with Skills and Education')\n",
    "plt.title('people from different fields satisfied with education and skills for next 5 years')\n",
    "plt.xticks(index + bar_width, ('Business/Management','Computer Science','Education','Engineering','Health',\n",
    "                               'Humanities','Law','Life sciences','Physical sciences/Math','Social/behavioral sciences',\n",
    "                               'Vocational/technical training'), rotation = 'vertical')\n",
    "plt.legend()\n",
    "\n",
    "plt.tight_layout()\n",
    "plt.show()"
   ]
  },
  {
   "cell_type": "code",
   "execution_count": null,
   "metadata": {
    "collapsed": true
   },
   "outputs": [],
   "source": [
    "# Role of different degree levels in career satisfaction for next 5 years."
   ]
  },
  {
   "cell_type": "code",
   "execution_count": 96,
   "metadata": {},
   "outputs": [
    {
     "data": {
      "text/html": [
       "<div>\n",
       "<style>\n",
       "    .dataframe thead tr:only-child th {\n",
       "        text-align: right;\n",
       "    }\n",
       "\n",
       "    .dataframe thead th {\n",
       "        text-align: left;\n",
       "    }\n",
       "\n",
       "    .dataframe tbody tr th {\n",
       "        vertical-align: top;\n",
       "    }\n",
       "</style>\n",
       "<table border=\"1\" class=\"dataframe\">\n",
       "  <thead>\n",
       "    <tr style=\"text-align: right;\">\n",
       "      <th>Satisfied with Skills and Education</th>\n",
       "      <th>Don't know</th>\n",
       "      <th>No</th>\n",
       "      <th>Yes</th>\n",
       "    </tr>\n",
       "    <tr>\n",
       "      <th>ED0</th>\n",
       "      <th></th>\n",
       "      <th></th>\n",
       "      <th></th>\n",
       "    </tr>\n",
       "  </thead>\n",
       "  <tbody>\n",
       "    <tr>\n",
       "      <th>Associate degree</th>\n",
       "      <td>15.0</td>\n",
       "      <td>57.0</td>\n",
       "      <td>82.0</td>\n",
       "    </tr>\n",
       "    <tr>\n",
       "      <th>Bachelor degree</th>\n",
       "      <td>83.0</td>\n",
       "      <td>127.0</td>\n",
       "      <td>322.0</td>\n",
       "    </tr>\n",
       "    <tr>\n",
       "      <th>Certificate or technical degree</th>\n",
       "      <td>11.0</td>\n",
       "      <td>16.0</td>\n",
       "      <td>28.0</td>\n",
       "    </tr>\n",
       "    <tr>\n",
       "      <th>Doctoral Degree</th>\n",
       "      <td>2.0</td>\n",
       "      <td>NaN</td>\n",
       "      <td>21.0</td>\n",
       "    </tr>\n",
       "    <tr>\n",
       "      <th>High school degree or GED</th>\n",
       "      <td>21.0</td>\n",
       "      <td>44.0</td>\n",
       "      <td>21.0</td>\n",
       "    </tr>\n",
       "    <tr>\n",
       "      <th>Less than High School degree</th>\n",
       "      <td>4.0</td>\n",
       "      <td>NaN</td>\n",
       "      <td>6.0</td>\n",
       "    </tr>\n",
       "    <tr>\n",
       "      <th>Master degree</th>\n",
       "      <td>13.0</td>\n",
       "      <td>12.0</td>\n",
       "      <td>123.0</td>\n",
       "    </tr>\n",
       "    <tr>\n",
       "      <th>Professional degree (e.g. MBA, MD, JD)</th>\n",
       "      <td>1.0</td>\n",
       "      <td>4.0</td>\n",
       "      <td>20.0</td>\n",
       "    </tr>\n",
       "    <tr>\n",
       "      <th>Some college but no degree (including currently enrolled in college)</th>\n",
       "      <td>69.0</td>\n",
       "      <td>183.0</td>\n",
       "      <td>112.0</td>\n",
       "    </tr>\n",
       "  </tbody>\n",
       "</table>\n",
       "</div>"
      ],
      "text/plain": [
       "Satisfied with Skills and Education                 Don't know     No    Yes\n",
       "ED0                                                                         \n",
       "Associate degree                                          15.0   57.0   82.0\n",
       "Bachelor degree                                           83.0  127.0  322.0\n",
       "Certificate or technical degree                           11.0   16.0   28.0\n",
       "Doctoral Degree                                            2.0    NaN   21.0\n",
       "High school degree or GED                                 21.0   44.0   21.0\n",
       "Less than High School degree                               4.0    NaN    6.0\n",
       "Master degree                                             13.0   12.0  123.0\n",
       "Professional degree (e.g. MBA, MD, JD)                     1.0    4.0   20.0\n",
       "Some college but no degree (including currently...        69.0  183.0  112.0"
      ]
     },
     "execution_count": 96,
     "metadata": {},
     "output_type": "execute_result"
    }
   ],
   "source": [
    "higher_degree_job_satisfaction = data1.pivot_table('ID', index=['ED0'],\n",
    "                    columns='Satisfied with Skills and Education', aggfunc='count')\n",
    "higher_degree_job_satisfaction"
   ]
  },
  {
   "cell_type": "code",
   "execution_count": 97,
   "metadata": {},
   "outputs": [
    {
     "data": {
      "text/html": [
       "<div>\n",
       "<style>\n",
       "    .dataframe thead tr:only-child th {\n",
       "        text-align: right;\n",
       "    }\n",
       "\n",
       "    .dataframe thead th {\n",
       "        text-align: left;\n",
       "    }\n",
       "\n",
       "    .dataframe tbody tr th {\n",
       "        vertical-align: top;\n",
       "    }\n",
       "</style>\n",
       "<table border=\"1\" class=\"dataframe\">\n",
       "  <thead>\n",
       "    <tr style=\"text-align: right;\">\n",
       "      <th></th>\n",
       "      <th>CaseID</th>\n",
       "    </tr>\n",
       "    <tr>\n",
       "      <th>ED14_a</th>\n",
       "      <th></th>\n",
       "    </tr>\n",
       "  </thead>\n",
       "  <tbody>\n",
       "    <tr>\n",
       "      <th>No</th>\n",
       "      <td>454</td>\n",
       "    </tr>\n",
       "    <tr>\n",
       "      <th>Not In Universe (not asked)</th>\n",
       "      <td>11801</td>\n",
       "    </tr>\n",
       "    <tr>\n",
       "      <th>Yes</th>\n",
       "      <td>192</td>\n",
       "    </tr>\n",
       "  </tbody>\n",
       "</table>\n",
       "</div>"
      ],
      "text/plain": [
       "                             CaseID\n",
       "ED14_a                             \n",
       "No                              454\n",
       "Not In Universe (not asked)   11801\n",
       "Yes                             192"
      ]
     },
     "execution_count": 97,
     "metadata": {},
     "output_type": "execute_result"
    }
   ],
   "source": [
    "no_degree_job_satisfaction = data.pivot_table('CaseID', index=['ED14_a'], aggfunc='count')\n",
    "no_degree_job_satisfaction"
   ]
  },
  {
   "cell_type": "code",
   "execution_count": 98,
   "metadata": {},
   "outputs": [
    {
     "data": {
      "image/png": "[encoded data removed]",
      "text/plain": [
       "<matplotlib.figure.Figure at 0x26090dc5588>"
      ]
     },
     "metadata": {},
     "output_type": "display_data"
    }
   ],
   "source": [
    "#data to plot\n",
    "n_groups = 10\n",
    "Yes=(82,323,28,21,71,15,123,21,112,192)\n",
    "No = (57,127,16,0,112,19,12,4,183,452)\n",
    "\n",
    "# create plot\n",
    "fig, ax = plt.subplots(figsize=(8, 8))\n",
    "index = np.arange(n_groups)\n",
    "bar_width = 0.30\n",
    "opacity = 0.6\n",
    "\n",
    "rects1 = plt.bar(index, Yes, bar_width,\n",
    "alpha=opacity,\n",
    "color='c',\n",
    "label='Yes')\n",
    "\n",
    "rects2 = plt.bar(index + bar_width, No, bar_width,\n",
    "alpha=opacity,\n",
    "color='r',\n",
    "label='No')\n",
    "\n",
    "plt.xlabel('Level of Education')\n",
    "plt.ylabel('Satisfied with Skills and Education')\n",
    "plt.title('People from different degree levels satisfied with education and skills for next 5 years')\n",
    "plt.xticks(index + bar_width, ('Associate degree','Bachelor degree','Certificate/ Technical degree','Doctoral degree','High school degree/GED',\n",
    "                               'Less than High School degree ','Master degree','Professional degree - MBA, MD, JD','Some college but no degree',\n",
    "                               'No degree'), rotation = 'vertical')\n",
    "\n",
    "\n",
    "plt.legend()\n",
    "\n",
    "plt.tight_layout()\n",
    "plt.show()"
   ]
  },
  {
   "cell_type": "code",
   "execution_count": 63,
   "metadata": {
    "collapsed": true
   },
   "outputs": [],
   "source": [
    "# pivot for dissatisfaction reason: opinion regarding what people know now about the benefits and costs of their education,\n",
    "#if they could go back and change decisions about their choice\n"
   ]
  },
  {
   "cell_type": "code",
   "execution_count": 64,
   "metadata": {
    "collapsed": true
   },
   "outputs": [],
   "source": [
    "#change field"
   ]
  },
  {
   "cell_type": "code",
   "execution_count": 65,
   "metadata": {},
   "outputs": [
    {
     "data": {
      "text/html": [
       "<div>\n",
       "<style>\n",
       "    .dataframe thead tr:only-child th {\n",
       "        text-align: right;\n",
       "    }\n",
       "\n",
       "    .dataframe thead th {\n",
       "        text-align: left;\n",
       "    }\n",
       "\n",
       "    .dataframe tbody tr th {\n",
       "        vertical-align: top;\n",
       "    }\n",
       "</style>\n",
       "<table border=\"1\" class=\"dataframe\">\n",
       "  <thead>\n",
       "    <tr style=\"text-align: right;\">\n",
       "      <th></th>\n",
       "      <th>CaseID</th>\n",
       "    </tr>\n",
       "    <tr>\n",
       "      <th>ED11_a</th>\n",
       "      <th></th>\n",
       "    </tr>\n",
       "  </thead>\n",
       "  <tbody>\n",
       "    <tr>\n",
       "      <th>No</th>\n",
       "      <td>3990</td>\n",
       "    </tr>\n",
       "    <tr>\n",
       "      <th>Not In Universe (not asked)</th>\n",
       "      <td>6150</td>\n",
       "    </tr>\n",
       "    <tr>\n",
       "      <th>Refused</th>\n",
       "      <td>71</td>\n",
       "    </tr>\n",
       "    <tr>\n",
       "      <th>Yes</th>\n",
       "      <td>2236</td>\n",
       "    </tr>\n",
       "  </tbody>\n",
       "</table>\n",
       "</div>"
      ],
      "text/plain": [
       "                             CaseID\n",
       "ED11_a                             \n",
       "No                             3990\n",
       "Not In Universe (not asked)    6150\n",
       "Refused                          71\n",
       "Yes                            2236"
      ]
     },
     "execution_count": 65,
     "metadata": {},
     "output_type": "execute_result"
    }
   ],
   "source": [
    "change_field = data.pivot_table('CaseID', index=['ED11_a'], aggfunc='count')\n",
    "change_field"
   ]
  },
  {
   "cell_type": "code",
   "execution_count": 66,
   "metadata": {},
   "outputs": [
    {
     "data": {
      "text/html": [
       "<div>\n",
       "<style>\n",
       "    .dataframe thead tr:only-child th {\n",
       "        text-align: right;\n",
       "    }\n",
       "\n",
       "    .dataframe thead th {\n",
       "        text-align: left;\n",
       "    }\n",
       "\n",
       "    .dataframe tbody tr th {\n",
       "        vertical-align: top;\n",
       "    }\n",
       "</style>\n",
       "<table border=\"1\" class=\"dataframe\">\n",
       "  <thead>\n",
       "    <tr style=\"text-align: right;\">\n",
       "      <th></th>\n",
       "      <th>CaseID</th>\n",
       "    </tr>\n",
       "    <tr>\n",
       "      <th>ED11_b</th>\n",
       "      <th></th>\n",
       "    </tr>\n",
       "  </thead>\n",
       "  <tbody>\n",
       "    <tr>\n",
       "      <th>No</th>\n",
       "      <td>4854</td>\n",
       "    </tr>\n",
       "    <tr>\n",
       "      <th>Not In Universe (not asked)</th>\n",
       "      <td>6150</td>\n",
       "    </tr>\n",
       "    <tr>\n",
       "      <th>Refused</th>\n",
       "      <td>128</td>\n",
       "    </tr>\n",
       "    <tr>\n",
       "      <th>Yes</th>\n",
       "      <td>1315</td>\n",
       "    </tr>\n",
       "  </tbody>\n",
       "</table>\n",
       "</div>"
      ],
      "text/plain": [
       "                             CaseID\n",
       "ED11_b                             \n",
       "No                             4854\n",
       "Not In Universe (not asked)    6150\n",
       "Refused                         128\n",
       "Yes                            1315"
      ]
     },
     "execution_count": 66,
     "metadata": {},
     "output_type": "execute_result"
    }
   ],
   "source": [
    "change_school = data.pivot_table('CaseID', index=['ED11_b'], aggfunc='count')\n",
    "change_school"
   ]
  },
  {
   "cell_type": "code",
   "execution_count": 67,
   "metadata": {},
   "outputs": [
    {
     "data": {
      "text/html": [
       "<div>\n",
       "<style>\n",
       "    .dataframe thead tr:only-child th {\n",
       "        text-align: right;\n",
       "    }\n",
       "\n",
       "    .dataframe thead th {\n",
       "        text-align: left;\n",
       "    }\n",
       "\n",
       "    .dataframe tbody tr th {\n",
       "        vertical-align: top;\n",
       "    }\n",
       "</style>\n",
       "<table border=\"1\" class=\"dataframe\">\n",
       "  <thead>\n",
       "    <tr style=\"text-align: right;\">\n",
       "      <th></th>\n",
       "      <th>CaseID</th>\n",
       "    </tr>\n",
       "    <tr>\n",
       "      <th>ED11_c</th>\n",
       "      <th></th>\n",
       "    </tr>\n",
       "  </thead>\n",
       "  <tbody>\n",
       "    <tr>\n",
       "      <th>No</th>\n",
       "      <td>5887</td>\n",
       "    </tr>\n",
       "    <tr>\n",
       "      <th>Not In Universe (not asked)</th>\n",
       "      <td>6150</td>\n",
       "    </tr>\n",
       "    <tr>\n",
       "      <th>Refused</th>\n",
       "      <td>170</td>\n",
       "    </tr>\n",
       "    <tr>\n",
       "      <th>Yes</th>\n",
       "      <td>240</td>\n",
       "    </tr>\n",
       "  </tbody>\n",
       "</table>\n",
       "</div>"
      ],
      "text/plain": [
       "                             CaseID\n",
       "ED11_c                             \n",
       "No                             5887\n",
       "Not In Universe (not asked)    6150\n",
       "Refused                         170\n",
       "Yes                             240"
      ]
     },
     "execution_count": 67,
     "metadata": {},
     "output_type": "execute_result"
    }
   ],
   "source": [
    "pursue_less_degrees = data.pivot_table('CaseID', index=['ED11_c'], aggfunc='count')\n",
    "pursue_less_degrees"
   ]
  },
  {
   "cell_type": "code",
   "execution_count": 68,
   "metadata": {},
   "outputs": [
    {
     "data": {
      "text/html": [
       "<div>\n",
       "<style>\n",
       "    .dataframe thead tr:only-child th {\n",
       "        text-align: right;\n",
       "    }\n",
       "\n",
       "    .dataframe thead th {\n",
       "        text-align: left;\n",
       "    }\n",
       "\n",
       "    .dataframe tbody tr th {\n",
       "        vertical-align: top;\n",
       "    }\n",
       "</style>\n",
       "<table border=\"1\" class=\"dataframe\">\n",
       "  <thead>\n",
       "    <tr style=\"text-align: right;\">\n",
       "      <th></th>\n",
       "      <th>CaseID</th>\n",
       "    </tr>\n",
       "    <tr>\n",
       "      <th>ED11_d</th>\n",
       "      <th></th>\n",
       "    </tr>\n",
       "  </thead>\n",
       "  <tbody>\n",
       "    <tr>\n",
       "      <th>No</th>\n",
       "      <td>3382</td>\n",
       "    </tr>\n",
       "    <tr>\n",
       "      <th>Not In Universe (not asked)</th>\n",
       "      <td>6150</td>\n",
       "    </tr>\n",
       "    <tr>\n",
       "      <th>Refused</th>\n",
       "      <td>106</td>\n",
       "    </tr>\n",
       "    <tr>\n",
       "      <th>Yes</th>\n",
       "      <td>2809</td>\n",
       "    </tr>\n",
       "  </tbody>\n",
       "</table>\n",
       "</div>"
      ],
      "text/plain": [
       "                             CaseID\n",
       "ED11_d                             \n",
       "No                             3382\n",
       "Not In Universe (not asked)    6150\n",
       "Refused                         106\n",
       "Yes                            2809"
      ]
     },
     "execution_count": 68,
     "metadata": {},
     "output_type": "execute_result"
    }
   ],
   "source": [
    "pursue_more_degrees = data.pivot_table('CaseID', index=['ED11_d'], aggfunc='count')\n",
    "pursue_more_degrees"
   ]
  },
  {
   "cell_type": "code",
   "execution_count": 69,
   "metadata": {},
   "outputs": [
    {
     "data": {
      "text/html": [
       "<div>\n",
       "<style>\n",
       "    .dataframe thead tr:only-child th {\n",
       "        text-align: right;\n",
       "    }\n",
       "\n",
       "    .dataframe thead th {\n",
       "        text-align: left;\n",
       "    }\n",
       "\n",
       "    .dataframe tbody tr th {\n",
       "        vertical-align: top;\n",
       "    }\n",
       "</style>\n",
       "<table border=\"1\" class=\"dataframe\">\n",
       "  <thead>\n",
       "    <tr style=\"text-align: right;\">\n",
       "      <th></th>\n",
       "      <th>CaseID</th>\n",
       "    </tr>\n",
       "    <tr>\n",
       "      <th>ED11_e</th>\n",
       "      <th></th>\n",
       "    </tr>\n",
       "  </thead>\n",
       "  <tbody>\n",
       "    <tr>\n",
       "      <th>No</th>\n",
       "      <td>5924</td>\n",
       "    </tr>\n",
       "    <tr>\n",
       "      <th>Not In Universe (not asked)</th>\n",
       "      <td>6150</td>\n",
       "    </tr>\n",
       "    <tr>\n",
       "      <th>Refused</th>\n",
       "      <td>169</td>\n",
       "    </tr>\n",
       "    <tr>\n",
       "      <th>Yes</th>\n",
       "      <td>204</td>\n",
       "    </tr>\n",
       "  </tbody>\n",
       "</table>\n",
       "</div>"
      ],
      "text/plain": [
       "                             CaseID\n",
       "ED11_e                             \n",
       "No                             5924\n",
       "Not In Universe (not asked)    6150\n",
       "Refused                         169\n",
       "Yes                             204"
      ]
     },
     "execution_count": 69,
     "metadata": {},
     "output_type": "execute_result"
    }
   ],
   "source": [
    "pursue_no_degrees = data.pivot_table('CaseID', index=['ED11_e'], aggfunc='count')\n",
    "pursue_no_degrees"
   ]
  },
  {
   "cell_type": "code",
   "execution_count": null,
   "metadata": {
    "collapsed": true
   },
   "outputs": [],
   "source": [
    "# pie chart to show analysis"
   ]
  },
  {
   "cell_type": "code",
   "execution_count": 70,
   "metadata": {},
   "outputs": [
    {
     "data": {
      "image/png": "[encoded data removed]",
      "text/plain": [
       "<matplotlib.figure.Figure at 0x26094e436a0>"
      ]
     },
     "metadata": {},
     "output_type": "display_data"
    }
   ],
   "source": [
    "decision = ['change field', 'change school', 'pursue less degrees', \n",
    "        'pursue more degrees', 'pursue no degree'] \n",
    "  \n",
    "response = [2236,1315, 240, 2809, 204] \n",
    "explode = (0.05, 0, 0, 0.15,0)\n",
    "# Creating plot \n",
    "fig = plt.figure(figsize =(7, 7)) \n",
    "plt.pie(response, labels = decision,explode=explode, autopct='%1.0f%%') \n",
    "  \n",
    "# show plot \n",
    "plt.show()"
   ]
  },
  {
   "cell_type": "code",
   "execution_count": 76,
   "metadata": {
    "collapsed": true
   },
   "outputs": [],
   "source": [
    "# financial benefits -  Role of Return On Investment in career satisfaction"
   ]
  },
  {
   "cell_type": "code",
   "execution_count": 93,
   "metadata": {
    "scrolled": true
   },
   "outputs": [
    {
     "data": {
      "text/html": [
       "<div>\n",
       "<style>\n",
       "    .dataframe thead tr:only-child th {\n",
       "        text-align: right;\n",
       "    }\n",
       "\n",
       "    .dataframe thead th {\n",
       "        text-align: left;\n",
       "    }\n",
       "\n",
       "    .dataframe tbody tr th {\n",
       "        vertical-align: top;\n",
       "    }\n",
       "</style>\n",
       "<table border=\"1\" class=\"dataframe\">\n",
       "  <thead>\n",
       "    <tr style=\"text-align: right;\">\n",
       "      <th></th>\n",
       "      <th>CaseID</th>\n",
       "    </tr>\n",
       "    <tr>\n",
       "      <th>ED10</th>\n",
       "      <th></th>\n",
       "    </tr>\n",
       "  </thead>\n",
       "  <tbody>\n",
       "    <tr>\n",
       "      <th>About the same financial benefits and financial costs</th>\n",
       "      <td>1287</td>\n",
       "    </tr>\n",
       "    <tr>\n",
       "      <th>Financial benefits are much larger</th>\n",
       "      <td>2698</td>\n",
       "    </tr>\n",
       "    <tr>\n",
       "      <th>Financial benefits are somewhat larger</th>\n",
       "      <td>1377</td>\n",
       "    </tr>\n",
       "    <tr>\n",
       "      <th>Financial costs are much larger</th>\n",
       "      <td>462</td>\n",
       "    </tr>\n",
       "    <tr>\n",
       "      <th>Financial costs are somewhat larger</th>\n",
       "      <td>442</td>\n",
       "    </tr>\n",
       "  </tbody>\n",
       "</table>\n",
       "</div>"
      ],
      "text/plain": [
       "                                                    CaseID\n",
       "ED10                                                      \n",
       "About the same financial benefits and financial...    1287\n",
       "Financial benefits are much larger                    2698\n",
       "Financial benefits are somewhat larger                1377\n",
       "Financial costs are much larger                        462\n",
       "Financial costs are somewhat larger                    442"
      ]
     },
     "execution_count": 93,
     "metadata": {},
     "output_type": "execute_result"
    }
   ],
   "source": [
    "data3= data[['CaseID','ED10','ED0','ED1']].copy() \n",
    "data3 = data3[data3['ED10'] != 'Not In Universe (not asked)']\n",
    "data3 = data3[data3['ED10'] != 'Refused']\n",
    "financial_benefit = data3.pivot_table('CaseID', index=['ED10'], aggfunc='count')\n",
    "financial_benefit"
   ]
  },
  {
   "cell_type": "code",
   "execution_count": 78,
   "metadata": {},
   "outputs": [
    {
     "data": {
      "image/png": "[encoded data removed]",
      "text/plain": [
       "<matplotlib.figure.Figure at 0x260911730b8>"
      ]
     },
     "metadata": {},
     "output_type": "display_data"
    }
   ],
   "source": [
    "chart = ['about same cost and benefit', 'much larger benefits', 'somewhat larger benefits', \n",
    "        'much larger cost', 'somewhat larger cost'] \n",
    "  \n",
    "responses = [1287,2698, 1377, 462, 442] \n",
    "explode1 = (0, 0.05, 0, 0,0)\n",
    "# Creating plot \n",
    "fig = plt.figure(figsize =(7, 7)) \n",
    "plt.pie(responses, labels = chart,explode=explode1, autopct='%1.0f%%') \n",
    "  \n",
    "# show plot \n",
    "plt.show()"
   ]
  },
  {
   "cell_type": "code",
   "execution_count": null,
   "metadata": {
    "collapsed": true
   },
   "outputs": [],
   "source": [
    "# Role of Return On Investment in career satisfaction segregated by different levels of degrees"
   ]
  },
  {
   "cell_type": "code",
   "execution_count": 79,
   "metadata": {},
   "outputs": [
    {
     "data": {
      "text/html": [
       "<div>\n",
       "<style>\n",
       "    .dataframe thead tr:only-child th {\n",
       "        text-align: right;\n",
       "    }\n",
       "\n",
       "    .dataframe thead th {\n",
       "        text-align: left;\n",
       "    }\n",
       "\n",
       "    .dataframe tbody tr th {\n",
       "        vertical-align: top;\n",
       "    }\n",
       "</style>\n",
       "<table border=\"1\" class=\"dataframe\">\n",
       "  <thead>\n",
       "    <tr style=\"text-align: right;\">\n",
       "      <th>ED0</th>\n",
       "      <th>Associate degree</th>\n",
       "      <th>Bachelor degree</th>\n",
       "      <th>Doctoral Degree</th>\n",
       "      <th>Master degree</th>\n",
       "      <th>Professional degree (e.g. MBA, MD, JD)</th>\n",
       "    </tr>\n",
       "    <tr>\n",
       "      <th>ED10</th>\n",
       "      <th></th>\n",
       "      <th></th>\n",
       "      <th></th>\n",
       "      <th></th>\n",
       "      <th></th>\n",
       "    </tr>\n",
       "  </thead>\n",
       "  <tbody>\n",
       "    <tr>\n",
       "      <th>About the same financial benefits and financial costs</th>\n",
       "      <td>427</td>\n",
       "      <td>587</td>\n",
       "      <td>28</td>\n",
       "      <td>192</td>\n",
       "      <td>53</td>\n",
       "    </tr>\n",
       "    <tr>\n",
       "      <th>Financial benefits are much larger</th>\n",
       "      <td>330</td>\n",
       "      <td>1157</td>\n",
       "      <td>218</td>\n",
       "      <td>696</td>\n",
       "      <td>297</td>\n",
       "    </tr>\n",
       "    <tr>\n",
       "      <th>Financial benefits are somewhat larger</th>\n",
       "      <td>237</td>\n",
       "      <td>689</td>\n",
       "      <td>52</td>\n",
       "      <td>301</td>\n",
       "      <td>98</td>\n",
       "    </tr>\n",
       "    <tr>\n",
       "      <th>Financial costs are much larger</th>\n",
       "      <td>125</td>\n",
       "      <td>258</td>\n",
       "      <td>7</td>\n",
       "      <td>58</td>\n",
       "      <td>14</td>\n",
       "    </tr>\n",
       "    <tr>\n",
       "      <th>Financial costs are somewhat larger</th>\n",
       "      <td>100</td>\n",
       "      <td>248</td>\n",
       "      <td>10</td>\n",
       "      <td>68</td>\n",
       "      <td>16</td>\n",
       "    </tr>\n",
       "  </tbody>\n",
       "</table>\n",
       "</div>"
      ],
      "text/plain": [
       "ED0                                                 Associate degree  \\\n",
       "ED10                                                                   \n",
       "About the same financial benefits and financial...               427   \n",
       "Financial benefits are much larger                               330   \n",
       "Financial benefits are somewhat larger                           237   \n",
       "Financial costs are much larger                                  125   \n",
       "Financial costs are somewhat larger                              100   \n",
       "\n",
       "ED0                                                 Bachelor degree  \\\n",
       "ED10                                                                  \n",
       "About the same financial benefits and financial...              587   \n",
       "Financial benefits are much larger                             1157   \n",
       "Financial benefits are somewhat larger                          689   \n",
       "Financial costs are much larger                                 258   \n",
       "Financial costs are somewhat larger                             248   \n",
       "\n",
       "ED0                                                 Doctoral Degree  \\\n",
       "ED10                                                                  \n",
       "About the same financial benefits and financial...               28   \n",
       "Financial benefits are much larger                              218   \n",
       "Financial benefits are somewhat larger                           52   \n",
       "Financial costs are much larger                                   7   \n",
       "Financial costs are somewhat larger                              10   \n",
       "\n",
       "ED0                                                 Master degree  \\\n",
       "ED10                                                                \n",
       "About the same financial benefits and financial...            192   \n",
       "Financial benefits are much larger                            696   \n",
       "Financial benefits are somewhat larger                        301   \n",
       "Financial costs are much larger                                58   \n",
       "Financial costs are somewhat larger                            68   \n",
       "\n",
       "ED0                                                 Professional degree (e.g. MBA, MD, JD)  \n",
       "ED10                                                                                        \n",
       "About the same financial benefits and financial...                                      53  \n",
       "Financial benefits are much larger                                                     297  \n",
       "Financial benefits are somewhat larger                                                  98  \n",
       "Financial costs are much larger                                                         14  \n",
       "Financial costs are somewhat larger                                                     16  "
      ]
     },
     "execution_count": 79,
     "metadata": {},
     "output_type": "execute_result"
    }
   ],
   "source": [
    "financial_benefit_for_degree = data3.pivot_table('CaseID', index=['ED10'],columns='ED0', aggfunc='count')\n",
    "financial_benefit_for_degree"
   ]
  },
  {
   "cell_type": "code",
   "execution_count": null,
   "metadata": {
    "collapsed": true
   },
   "outputs": [],
   "source": [
    "# cost/benefit analysis of different degree levels"
   ]
  },
  {
   "cell_type": "code",
   "execution_count": 80,
   "metadata": {},
   "outputs": [
    {
     "data": {
      "image/png": "[encoded data removed]",
      "text/plain": [
       "<matplotlib.figure.Figure at 0x26090fb3e80>"
      ]
     },
     "metadata": {},
     "output_type": "display_data"
    }
   ],
   "source": [
    "\n",
    "n_groups = 5\n",
    "\n",
    "same=(427,587,28,192,53)\n",
    "high = (330,1157,218,696,297)\n",
    "somewhat=(237,689,52,301,98)\n",
    "high_cost=(125,258,7,58,14)\n",
    "somewhat_cost=(100,248,10,68,16)\n",
    "# create plot\n",
    "fig, ax = plt.subplots(figsize=(8,8))\n",
    "index = np.arange(n_groups)\n",
    "bar_width = 0.35\n",
    "opacity = 0.6\n",
    "\n",
    "bar01 = plt.bar(index, same, bar_width,\n",
    "alpha=opacity,\n",
    "label='About the same financial benefits and financial costs')\n",
    "#color='r',\n",
    "bar02 = plt.bar(index , high, bar_width,\n",
    "alpha=opacity,\n",
    "#color='g',\n",
    "label='Financial benefits are much larger')\n",
    "bar03 = plt.bar(index , somewhat, bar_width,\n",
    "alpha=opacity,\n",
    "#color='b',\n",
    "label='Financial benefits are somewhat larger')\n",
    "bar04 = plt.bar(index , high_cost, bar_width,\n",
    "alpha=opacity,\n",
    "#color='y',\n",
    "label='Financial costs are much larger')\n",
    "bar05 = plt.bar(index , somewhat_cost, bar_width,\n",
    "alpha=opacity,\n",
    "#color='c',\n",
    "label='Financial costs are somewhat larger')\n",
    "\n",
    "\n",
    "\n",
    "plt.xlabel('Education Level')\n",
    "plt.ylabel('Financial Cost/ Benefits')\n",
    "plt.title(' Financial cost/benefit analysis of people with different education levels')\n",
    "plt.xticks(index + bar_width, ('Associate degree','Bachelor degree','Certificate/ Technical degree','Doctoral degree','High school degree/GED',\n",
    "                               'Less than High School degree ','Master degree','Professional degree - MBA, MD, JD'), rotation = 'vertical')\n",
    "plt.legend()\n",
    "\n",
    "plt.tight_layout()\n",
    "plt.show()"
   ]
  }
 ],
 "metadata": {
  "kernelspec": {
   "display_name": "Python 3",
   "language": "python",
   "name": "python3"
  },
  "language_info": {
   "codemirror_mode": {
    "name": "ipython",
    "version": 3
   },
   "file_extension": ".py",
   "mimetype": "text/x-python",
   "name": "python",
   "nbconvert_exporter": "python",
   "pygments_lexer": "ipython3",
   "version": "3.6.2"
  }
 },
 "nbformat": 4,
 "nbformat_minor": 2
}
